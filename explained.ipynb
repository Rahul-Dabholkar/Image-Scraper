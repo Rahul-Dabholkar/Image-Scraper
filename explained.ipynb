{
 "cells": [
  {
   "cell_type": "markdown",
   "id": "c00921b5",
   "metadata": {},
   "source": [
    "\n",
    "<h1 style=\"text-align:center; font-size:300%;\">IMAGE SCRAPER</h1>"
   ]
  },
  {
   "cell_type": "markdown",
   "id": "27504573",
   "metadata": {},
   "source": [
    "<p style=\"text-align:center; font-size:120%;\">This is a Web Scraper that scrapes and displays ready to download images from Unsplash. This project is built by using BS4 and Streamlit library.</p>"
   ]
  },
  {
   "cell_type": "markdown",
   "id": "3afdbef5",
   "metadata": {},
   "source": [
    "<hr>"
   ]
  },
  {
   "cell_type": "markdown",
   "id": "cd7459f0",
   "metadata": {},
   "source": [
    "<h2>1. Importing Libraries</h2>"
   ]
  },
  {
   "cell_type": "code",
   "execution_count": 4,
   "id": "9fde2b96",
   "metadata": {},
   "outputs": [],
   "source": [
    "import streamlit as st #used to create a web app\n",
    "import requests #to get request from pages\n",
    "from bs4 import BeautifulSoup #scraper \n",
    "import webbrowser #used to open new page\n",
    "import warnings\n",
    "warnings.filterwarnings('ignore')"
   ]
  },
  {
   "cell_type": "markdown",
   "id": "15813739",
   "metadata": {},
   "source": [
    "<h2>2. Configure Streamlit</h2>"
   ]
  },
  {
   "cell_type": "code",
   "execution_count": 5,
   "id": "bd60433f",
   "metadata": {},
   "outputs": [],
   "source": [
    "#Configure page title, icon and layout \n",
    "st.set_page_config(page_title = 'Image Scraper', \n",
    "                   page_icon='📦',\n",
    "                   layout='wide')\n",
    "\n",
    "#Header and Search button\n",
    "st.markdown(\"<h1 style= 'text align:center'>Web Scraper</h1>\",unsafe_allow_html=True)\n",
    "with st.form('Search'):\n",
    "    keyword = st.text_input('Enter your keyword')\n",
    "    search = st.form_submit_button('Search')\n",
    "\n",
    "#empty placeholder for refresh \n",
    "placeholder = st.empty()"
   ]
  },
  {
   "cell_type": "markdown",
   "id": "97493f4f",
   "metadata": {},
   "source": [
    "<h2>3. Getting Images</h2>"
   ]
  },
  {
   "cell_type": "code",
   "execution_count": 6,
   "id": "b3cfd882",
   "metadata": {},
   "outputs": [],
   "source": [
    "\n",
    "#when keyword is submitted\n",
    "if keyword:\n",
    "    \n",
    "    #req page and make soup\n",
    "    page = requests.get(f'https://unsplash.com/s/photos/{keyword}')\n",
    "    soup = BeautifulSoup(page.content,'lxml') \n",
    "    \n",
    "    #Specifiying div Image is placed in\n",
    "    rows = soup.find_all('div', class_='ripi6')\n",
    "    \n",
    "    col1 ,col2 = placeholder.columns(2) #creates 2 placeholder rows\n",
    "    \n",
    "    #Specifying srcset of image\n",
    "    for index,row in enumerate(rows): #here enumerate is used to arrange images based on index in future\n",
    "        figures = row.find_all(\"figure\")\n",
    "        for i in range(2):\n",
    "            img = figures[i].find(\"img\",class_=\"YVj9w\")\n",
    "            list = (img[\"srcset\"].split('?'))\n",
    "            anchor = figures[i].find('a',class_='rEAWd') #getting srcset of specific class\n",
    "    \n",
    "    #Arraging images\n",
    "            if i == 0:\n",
    "                col1.image(list[0])\n",
    "                btn = col1.button(\"Download\",key=str(index) + str(i)) #adds a download button with takes to download page\n",
    "                if btn:\n",
    "                    webbrowser.open_new_tab('https://unsplash.com' + anchor['href'])\n",
    "            else:\n",
    "                col2.image(list[0])\n",
    "                btn = col2.button(\"Download\",key=str(index) + str(i))\n",
    "                if btn:\n",
    "                    webbrowser.open_new_tab('https://unsplash.com/s' + anchor['href'])     "
   ]
  },
  {
   "cell_type": "code",
   "execution_count": null,
   "id": "b50887f1",
   "metadata": {},
   "outputs": [],
   "source": []
  }
 ],
 "metadata": {
  "kernelspec": {
   "display_name": "Python 3 (ipykernel)",
   "language": "python",
   "name": "python3"
  },
  "language_info": {
   "codemirror_mode": {
    "name": "ipython",
    "version": 3
   },
   "file_extension": ".py",
   "mimetype": "text/x-python",
   "name": "python",
   "nbconvert_exporter": "python",
   "pygments_lexer": "ipython3",
   "version": "3.9.12"
  }
 },
 "nbformat": 4,
 "nbformat_minor": 5
}
